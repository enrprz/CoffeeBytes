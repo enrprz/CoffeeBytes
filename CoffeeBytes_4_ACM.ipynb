{
  "nbformat": 4,
  "nbformat_minor": 0,
  "metadata": {
    "colab": {
      "name": "CoffeeBytes_01_ACM.ipynb",
      "provenance": [],
      "collapsed_sections": [],
      "include_colab_link": true
    },
    "kernelspec": {
      "name": "python3",
      "display_name": "Python 3"
    }
  },
  "cells": [
    {
      "cell_type": "markdown",
      "metadata": {
        "id": "view-in-github",
        "colab_type": "text"
      },
      "source": [
        "<a href=\"https://colab.research.google.com/github/enrprz/CoffeeBytes/blob/temp/CoffeeBytes_4_ACM.ipynb\" target=\"_parent\"><img src=\"https://colab.research.google.com/assets/colab-badge.svg\" alt=\"Open In Colab\"/></a>"
      ]
    },
    {
      "cell_type": "markdown",
      "metadata": {
        "id": "FUU9a9TYlLJv",
        "colab_type": "text"
      },
      "source": [
        "Before we begin, please fill out this quick survey to get a better sense of how we are doing in CoffeeBytes and of where you guys are at knowledge wise so far.\n",
        "-------------------------------------------------------------------------------\n",
        "[Super Cool Survey Link](https://enrique266012.typeform.com/to/wUkJnz)\n",
        "----------------------------------------------------------"
      ]
    },
    {
      "cell_type": "markdown",
      "metadata": {
        "id": "aTahIhIGXYUP",
        "colab_type": "text"
      },
      "source": [
        "## New Data Structure!\n",
        "![alt text](https://res.cloudinary.com/practicaldev/image/fetch/s--s1Qbl8Gf--/c_limit%2Cf_auto%2Cfl_progressive%2Cq_auto%2Cw_880/https://thepracticaldev.s3.amazonaws.com/i/mwcwre09s12vqa3gvl7a.png)"
      ]
    },
    {
      "cell_type": "markdown",
      "metadata": {
        "id": "3__ogFwlX_7r",
        "colab_type": "text"
      },
      "source": [
        "## Try to use this data structure in the following challenge! :D"
      ]
    },
    {
      "cell_type": "markdown",
      "metadata": {
        "id": "GsynLBQibtGB",
        "colab_type": "text"
      },
      "source": [
        "## Given a string of parentheses, return True if the string is valid, False otherwise.\n",
        "### Example 1:\n",
        "-------------\n",
        "input = (())\n",
        "\n",
        "output = True\n",
        "\n",
        "### Example 2:\n",
        "-------------\n",
        "input = (())(\n",
        "  \n",
        "output = False\n",
        "\n"
      ]
    },
    {
      "cell_type": "code",
      "metadata": {
        "id": "BFpnDyEecSWN",
        "colab_type": "code",
        "colab": {}
      },
      "source": [
        "# Implement the function below\n",
        "def Valid Paranthesis(s):\n",
        "  pass\n",
        "  '''\n",
        "  Tools you can use from the standard library:\n",
        "  if \"\" in string:\n",
        "    pass\n",
        "\n",
        "  s = s[:blank] #string slicing\n",
        "  '''"
      ],
      "execution_count": 0,
      "outputs": []
    },
    {
      "cell_type": "markdown",
      "metadata": {
        "id": "A-92Up_-cstN",
        "colab_type": "text"
      },
      "source": [
        "### 1. Clarify, Clarify Clarify 🤓\n",
        "### 2. Think up some inputs and outputs 👉👈\n",
        "### 3. Design your algorithm 🤖\n",
        "### 4. Test it! ✍️\n",
        "### 5. Code it! 👨‍💻\n",
        "### 6. Test it again! (If you coded it) 👾\n",
        "### 7. Optimize (If you have time) 🧙‍♂️\n"
      ]
    }
  ]
}