{
  "nbformat": 4,
  "nbformat_minor": 0,
  "metadata": {
    "colab": {
      "name": "CoffeeBytes_01_ACM.ipynb",
      "provenance": [],
      "collapsed_sections": [],
      "include_colab_link": true
    },
    "kernelspec": {
      "name": "python3",
      "display_name": "Python 3"
    }
  },
  "cells": [
    {
      "cell_type": "markdown",
      "metadata": {
        "id": "view-in-github",
        "colab_type": "text"
      },
      "source": [
        "<a href=\"https://colab.research.google.com/github/enrprz/CoffeeBytes/blob/temp/CoffeeBytes_3_ACM.ipynb\" target=\"_parent\"><img src=\"https://colab.research.google.com/assets/colab-badge.svg\" alt=\"Open In Colab\"/></a>"
      ]
    },
    {
      "cell_type": "markdown",
      "metadata": {
        "id": "FUU9a9TYlLJv",
        "colab_type": "text"
      },
      "source": [
        "Before we begin, please fill out this quick survey to get a better sense of how we are doing in CoffeeBytes and of where you guys are at knowledge wise so far.\n",
        "-------------------------------------------------------------------------------\n",
        "[Super Cool Survey Link](https://enrique266012.typeform.com/to/wUkJnz)\n",
        "----------------------------------------------------------"
      ]
    },
    {
      "cell_type": "markdown",
      "metadata": {
        "id": "dwzyRte_awBU",
        "colab_type": "text"
      },
      "source": [
        "-------------------------------------------------------------------------------\n",
        "Coding Interviews 101\n",
        "---------\n",
        "[link to presentation](https://docs.google.com/presentation/d/1LkhukfAxXcJgqnNvmSP2EmrhRgMbHJeFpRr2rQf_VDE/edit?usp=sharing)"
      ]
    },
    {
      "cell_type": "markdown",
      "metadata": {
        "id": "gXKDaLCnbXpI",
        "colab_type": "text"
      },
      "source": [
        "------------------------------------------------------\n",
        "The slides above gave us an idea of how to approach coding interviews. Lets attempt the one we mentioned there with our newfound strategies! :D\n",
        "-----------\n"
      ]
    },
    {
      "cell_type": "markdown",
      "metadata": {
        "id": "GsynLBQibtGB",
        "colab_type": "text"
      },
      "source": [
        "## Given an integer, “n”, find and print the number of letter a’s in the first n letters of an infinitely repeated string “s”.\n"
      ]
    },
    {
      "cell_type": "code",
      "metadata": {
        "id": "BFpnDyEecSWN",
        "colab_type": "code",
        "colab": {}
      },
      "source": [
        "# Implement the function below\n",
        "def repeatedString(s, n):\n",
        "  pass\n",
        "  '''\n",
        "  Tools you can use from the standard library:\n",
        "  s.count() - returns the number of instances of the char passed into it within the string\n",
        "  slicedString = s[:rangeOfSlice] - This is a way to return a slice of a string using list syntax\n",
        "  '''"
      ],
      "execution_count": 0,
      "outputs": []
    },
    {
      "cell_type": "markdown",
      "metadata": {
        "id": "A-92Up_-cstN",
        "colab_type": "text"
      },
      "source": [
        "### 1. Clarify, Clarify Clarify 🤓\n",
        "### 2. Think up some inputs and outputs 👉👈\n",
        "### 3. Design your algorithm 🤖\n",
        "### 4. Test it! ✍️\n",
        "### 5. Code it! 👨‍💻\n",
        "### 6. Test it again! (If you coded it) 👾\n",
        "### 7. Optimize (If you have time) 🧙‍♂️\n"
      ]
    },
    {
      "cell_type": "code",
      "metadata": {
        "id": "_eHu_BCceMkX",
        "colab_type": "code",
        "colab": {}
      },
      "source": [
        "# After awhile, I'll show my solution here!\n",
        "def repeatedString(s, n):\n",
        "  pass"
      ],
      "execution_count": 0,
      "outputs": []
    },
    {
      "cell_type": "markdown",
      "metadata": {
        "id": "7iJWwldqgiW1",
        "colab_type": "text"
      },
      "source": [
        " Next Challenge!\n",
        " --------\n",
        "\n",
        "----------------------------------------------------"
      ]
    },
    {
      "cell_type": "markdown",
      "metadata": {
        "id": "vGsGkj8uguWw",
        "colab_type": "text"
      },
      "source": [
        " Given an array 'A' such as [1,2,3,4,5], return the array after it has been rotated to the left 'd' times\n",
        " ---------\n",
        " Example: A = [1,2,3,4,5] and d = 1\n",
        " ---------\n",
        " Output: [2,3,4,5,1]\n",
        " ---------"
      ]
    },
    {
      "cell_type": "code",
      "metadata": {
        "id": "1Au-8gRzhdSE",
        "colab_type": "code",
        "colab": {}
      },
      "source": [
        "# Implement the function below\n",
        "def leftRotation(A, d):"
      ],
      "execution_count": 0,
      "outputs": []
    },
    {
      "cell_type": "markdown",
      "metadata": {
        "id": "rdc9ZQdTh_z3",
        "colab_type": "text"
      },
      "source": [
        "### 1. Clarify, Clarify Clarify 🤓\n",
        "### 2. Think up some inputs and outputs 👉👈\n",
        "### 3. Design your algorithm 🤖\n",
        "### 4. Test it! ✍️\n",
        "### 5. Code it! 👨‍💻\n",
        "### 6. Test it again! (If you coded it) 👾\n",
        "### 7. Optimize (If you have time) 🧙‍♂️"
      ]
    },
    {
      "cell_type": "code",
      "metadata": {
        "id": "_DbRpVQZh3cM",
        "colab_type": "code",
        "colab": {}
      },
      "source": [
        "# After Awhile, I'll post my solution here!\n",
        "def LeftRotation(A, d):\n",
        "  pass"
      ],
      "execution_count": 0,
      "outputs": []
    }
  ]
}