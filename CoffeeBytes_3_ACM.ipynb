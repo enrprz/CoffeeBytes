{
  "nbformat": 4,
  "nbformat_minor": 0,
  "metadata": {
    "colab": {
      "name": "CoffeeBytes_01_ACM.ipynb",
      "provenance": [],
      "collapsed_sections": [],
      "include_colab_link": true
    },
    "kernelspec": {
      "name": "python3",
      "display_name": "Python 3"
    }
  },
  "cells": [
    {
      "cell_type": "markdown",
      "metadata": {
        "id": "view-in-github",
        "colab_type": "text"
      },
      "source": [
        "<a href=\"https://colab.research.google.com/github/enrprz/CoffeeBytes/blob/temp/CoffeeBytes_3_ACM.ipynb\" target=\"_parent\"><img src=\"https://colab.research.google.com/assets/colab-badge.svg\" alt=\"Open In Colab\"/></a>"
      ]
    },
    {
      "cell_type": "markdown",
      "metadata": {
        "id": "FUU9a9TYlLJv",
        "colab_type": "text"
      },
      "source": [
        "Before we begin, please fill out this quick survey to get a better sense of how we are doing in CoffeeBytes and of where you guys are at knowledge wise so far.\n",
        "-------------------------------------------------------------------------------\n",
        "[Super Cool Survey Link](https://enrique266012.typeform.com/to/wUkJnz)\n",
        "----------------------------------------------------------"
      ]
    },
    {
      "cell_type": "markdown",
      "metadata": {
        "id": "dwzyRte_awBU",
        "colab_type": "text"
      },
      "source": [
        "-------------------------------------------------------------------------------\n",
        "Coding Interviews 101\n",
        "---------\n",
        "[link to presentation](https://docs.google.com/presentation/d/1LkhukfAxXcJgqnNvmSP2EmrhRgMbHJeFpRr2rQf_VDE/edit?usp=sharing)"
      ]
    },
    {
      "cell_type": "markdown",
      "metadata": {
        "id": "gXKDaLCnbXpI",
        "colab_type": "text"
      },
      "source": [
        "------------------------------------------------------\n",
        "The slides above gave us an idea of how to approach coding interviews. Lets attempt the one we mentioned there with our newfound strategies! :D\n",
        "-----------\n"
      ]
    },
    {
      "cell_type": "markdown",
      "metadata": {
        "id": "GsynLBQibtGB",
        "colab_type": "text"
      },
      "source": [
        "## Given an integer, “n”, find and print the number of letter a’s in the first n letters of an infinitely repeated string “s”.\n"
      ]
    },
    {
      "cell_type": "code",
      "metadata": {
        "id": "BFpnDyEecSWN",
        "colab_type": "code",
        "colab": {}
      },
      "source": [
        "# Implement the function below\n",
        "def repeatedString(s, n):\n",
        "  pass\n",
        "  '''\n",
        "  Tools you can use from the standard library:\n",
        "  s.count() - returns the number of instances of the char passed into it within the string\n",
        "  slicedString = s[:rangeOfSlice] - This is a way to return a slice of a string using list syntax\n",
        "  '''"
      ],
      "execution_count": 0,
      "outputs": []
    },
    {
      "cell_type": "markdown",
      "metadata": {
        "id": "A-92Up_-cstN",
        "colab_type": "text"
      },
      "source": [
        "### 1. Clarify, Clarify Clarify 🤓\n",
        "### 2. Think up some inputs and outputs 👉👈\n",
        "### 3. Design your algorithm 🤖\n",
        "### 4. Test it! ✍️\n",
        "### 5. Code it! 👨‍💻\n",
        "### 6. Test it again! (If you coded it) 👾\n",
        "### 7. Optimize (If you have time) 🧙‍♂️\n"
      ]
    },
    {
      "cell_type": "code",
      "metadata": {
        "id": "_eHu_BCceMkX",
        "colab_type": "code",
        "colab": {}
      },
      "source": [
        "'''\n",
        "This problem is interesting because, due to the fact that the string is repeated\n",
        "infinitely, theres a way to make your solution very inefficient. The first way I \n",
        "thought of approaching this is to repeat the string 's' an n number of times, then iterate through it and count a.\n",
        "However, n can be any number 0 <= n <= 10^6, so while doing this creates a solution\n",
        "that is O(n), i.e.m it scales in slowness linearly to your variable n, theres a way to \n",
        "make this O(1), i.e., a constant number of computations! Behold the solution below. \n",
        "'''\n",
        "def repeatedString(s, n):\n",
        "    # The number of a's in s\n",
        "    numA = s.count('a')\n",
        "    # The number of repeats of s in n \n",
        "    numS = n//len(s)\n",
        "    # The potentially cutoff string of s at the end of n\n",
        "    cutoff = s[:n%len(s)]\n",
        "    # The number of a's in the cutoff\n",
        "    numA_Cutoff = cutoff.count('a')\n",
        "\n",
        "    return numA * numS + numA_Cutoff"
      ],
      "execution_count": 0,
      "outputs": []
    },
    {
      "cell_type": "markdown",
      "metadata": {
        "id": "7iJWwldqgiW1",
        "colab_type": "text"
      },
      "source": [
        " Next Challenge!\n",
        " --------\n",
        "\n",
        "----------------------------------------------------"
      ]
    },
    {
      "cell_type": "markdown",
      "metadata": {
        "id": "vGsGkj8uguWw",
        "colab_type": "text"
      },
      "source": [
        " Given an array 'A' such as [1,2,3,4,5], return the array after it has been rotated to the left 'd' times\n",
        " ---------\n",
        " Example: A = [1,2,3,4,5] and d = 1\n",
        " ---------\n",
        " Output: [2,3,4,5,1]\n",
        " ---------"
      ]
    },
    {
      "cell_type": "code",
      "metadata": {
        "id": "1Au-8gRzhdSE",
        "colab_type": "code",
        "colab": {}
      },
      "source": [
        "# Implement the function below\n",
        "def leftRotation(A, d):"
      ],
      "execution_count": 0,
      "outputs": []
    },
    {
      "cell_type": "markdown",
      "metadata": {
        "id": "rdc9ZQdTh_z3",
        "colab_type": "text"
      },
      "source": [
        "### 1. Clarify, Clarify Clarify 🤓\n",
        "### 2. Think up some inputs and outputs 👉👈\n",
        "### 3. Design your algorithm 🤖\n",
        "### 4. Test it! ✍️\n",
        "### 5. Code it! 👨‍💻\n",
        "### 6. Test it again! (If you coded it) 👾\n",
        "### 7. Optimize (If you have time) 🧙‍♂️"
      ]
    },
    {
      "cell_type": "code",
      "metadata": {
        "id": "_DbRpVQZh3cM",
        "colab_type": "code",
        "colab": {}
      },
      "source": [
        "    '''\n",
        "In my solution, I create an empty list of size equal to list 'A', with all None elements.\n",
        "The reason for this is because as you move the indices by d movements to the left,\n",
        "swapping the elements in place using only the list A (and no extra empty list), you overwrite\n",
        "the elements you have yet to swap, resulting in lost elements and an incorrect rotation.\n",
        "Keeping the list A unmodifed and copying its elements into their rotated positions in rotA \n",
        "solves this issue.\n",
        "    '''\n",
        "\n",
        "def leftRotation(A, d):\n",
        "    # None list of size len(A)\n",
        "    rotA = [None for x in range(len(A))]\n",
        "    # Iterate through A to get elements\n",
        "    for i in range(len(A)):\n",
        "        # Copy elements from A into their correct elements in rotA\n",
        "        rotA[i - d] = A[i]\n",
        "    return rotA"
      ],
      "execution_count": 0,
      "outputs": []
    }
  ]
}