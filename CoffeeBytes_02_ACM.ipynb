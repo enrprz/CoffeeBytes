{
  "nbformat": 4,
  "nbformat_minor": 0,
  "metadata": {
    "colab": {
      "name": "CoffeeBytes_01_ACM.ipynb",
      "provenance": [],
      "collapsed_sections": [],
      "include_colab_link": true
    },
    "kernelspec": {
      "name": "python3",
      "display_name": "Python 3"
    }
  },
  "cells": [
    {
      "cell_type": "markdown",
      "metadata": {
        "id": "view-in-github",
        "colab_type": "text"
      },
      "source": [
        "<a href=\"https://colab.research.google.com/github/enrprz/CoffeeBytes/blob/temp/CoffeeBytes_02_ACM.ipynb\" target=\"_parent\"><img src=\"https://colab.research.google.com/assets/colab-badge.svg\" alt=\"Open In Colab\"/></a>"
      ]
    },
    {
      "cell_type": "markdown",
      "metadata": {
        "id": "FUU9a9TYlLJv",
        "colab_type": "text"
      },
      "source": [
        "Before We begin, please fill out this quick survey to get a better sense of how we are doing in CoffeeBytes and of were you guys are at knowledge wise so far.\n",
        "-------------------------------------------------------------------------------\n",
        "[Super Cool Survey Link](https://enrique266012.typeform.com/to/FFaemv)\n",
        "----------------------------------------------------------"
      ]
    },
    {
      "cell_type": "markdown",
      "metadata": {
        "id": "hAKbwBLqwUmR",
        "colab_type": "text"
      },
      "source": [
        "For this lesson, we will be implementing two well known algorithms: Binary Search and Quick Sort!\n",
        "--\n",
        "\n",
        "Binary Search \n",
        "-------------\n",
        "- Runtime: Worst case: O(log(n)) VERY FAST\n",
        "- Cons: Requires a pre-sorted array to work.\n",
        "\n",
        "Quick Sort\n",
        "-----------\n",
        "- Average Case: O(nlog(n)) PRETTY FAST\n",
        "- Cons: Runtime Worse Case: O(n^2)\n",
        "- If we choose the pivot randomly, we can\n",
        "  ensure an O(log(n)) time operation (statistically speaking)\n",
        "\n",
        "\n",
        "\n"
      ]
    },
    {
      "cell_type": "markdown",
      "metadata": {
        "id": "AjItjAGBmL-i",
        "colab_type": "text"
      },
      "source": [
        "## Quick Sort is a Divide and Conquer Algorithm. What does that mean? It means recursion!\n",
        "\n",
        "## Quick Sort Algorithm: Steps on how it works:\n",
        "1. Pick an element, called a pivot, from the list.\n",
        "\n",
        "2. Partitioning: reorder the list so that all elements with values less than the pivot go left, while all elements with values greater than the pivot go right (equal values can go either way). Keep in mind, that the pivot is NOT in the middle of the partition after this. It is only used for comparison. This whole operation is called the partition operation.\n",
        "\n",
        "3. Recursively apply the above steps to the sub-list of elements with smaller values and separately to the sub-list of elements with greater values.\n",
        "\n",
        "![alt text](https://miro.medium.com/max/600/1*DtH6fEdBhoUGnjBWudJ8pA.png)\n",
        "\n",
        "\n",
        "## [Video Link of video explanation](https://www.youtube.com/watch?time_continue=25&v=SLauY6PpjW4)\n",
        "\n",
        "\n",
        "\n"
      ]
    },
    {
      "cell_type": "markdown",
      "metadata": {
        "id": "WwBt0fWb5JbN",
        "colab_type": "text"
      },
      "source": [
        "Step 1: Implement the partition!\n",
        "-----\n"
      ]
    },
    {
      "cell_type": "code",
      "metadata": {
        "id": "3ckfi0DKmaJy",
        "colab_type": "code",
        "colab": {}
      },
      "source": [
        "\n",
        "\n",
        "# partition takes in 4 arguments: a list (A), a left cursor, a right cursor, and the pivot\n",
        "def partition(A, left, right, pivot):\n",
        "    '''\n",
        "    This is where most of the work for quicksort occurs.\n",
        "\n",
        "    Partition() will iterate through the list A, moving the left\n",
        "    cursor to the right until it reaches an element greater than\n",
        "    the pivot. \n",
        "    \n",
        "    Partition() will then iterate through A, moving the right cursor\n",
        "    to the left until it reaches an element less than the pivot.\n",
        "\n",
        "    Partition() will then swap the elements at the left and right\n",
        "    cursors, thus \"partitioning\" the list swap by swap.\n",
        "    \n",
        "    This will all continue until the left and right cursors overlap, \n",
        "    which means all the values less than the pivot are on the left\n",
        "    and all the elements greater than the pivot are on the right.\n",
        "\n",
        "    Finally, partition() returns the index in the middle of this \"partition\".\n",
        "    Get it? ;D\n",
        "    \n",
        "    Lets walk through this code line by line to get a better idea of how this works\n",
        "    '''\n",
        "    # Overall loop that will go through the whole list\n",
        "    while (left <= right):\n",
        "      \n",
        "        # This loop will move the pointer UNTIL it reachs a value greater than the pivot \n",
        "        while(A[left] < pivot):\n",
        "            left += 1\n",
        "            \n",
        "        # This loop will move the pointer UNTIL it reachs a value less than the pivot\n",
        "        while(A[right] > pivot):\n",
        "            right -= 1\n",
        "            \n",
        "        # This check is just to catch if we are overlapping cursors already!\n",
        "        if(left <= right):\n",
        "          \n",
        "            # This syntax looks wack, but don't panic. This just swaps A[left] and A[right]\n",
        "            A[left], A[right] = A[right], A[left]\n",
        "            \n",
        "            # Move the cursors after the swap.\n",
        "            left += 1\n",
        "            right -= 1\n",
        "            \n",
        "    # Finally, we return the partition point between the lesser values and the greater values\n",
        "    # Turns out, its the left cursor! (Once we iterate through the above, of course)\n",
        "    return left\n"
      ],
      "execution_count": 0,
      "outputs": []
    },
    {
      "cell_type": "markdown",
      "metadata": {
        "id": "nuzJ1Keu5bSe",
        "colab_type": "text"
      },
      "source": [
        "Step 2: Implement the Recursive QuickSort!\n",
        "-----------\n",
        "\n"
      ]
    },
    {
      "cell_type": "code",
      "metadata": {
        "id": "zR8_uhTOm-7g",
        "colab_type": "code",
        "colab": {}
      },
      "source": [
        "# This is how python gets outside libraries (a bunch of code that we can use written by other people). Here, we require the \"random\" library so we can pick our pivot!\n",
        "import random as random\n",
        "\n",
        "# quicksort takes in 3 arguments: a list (A), a left cursor, and a right cursor\n",
        "def quicksort(A, left, right):\n",
        "    '''\n",
        "    Quicksort() is the recursive portion of our entire algorithm.\n",
        "\n",
        "    Quicksort() first checks if the left and right cursors are overlapping\n",
        "    (in which case it returns out of the function).\n",
        "\n",
        "    Quicksort() then generates a random pivot and passes it to our partition()\n",
        "    function. \n",
        "\n",
        "    Partition() will take in the pivot and return the partition point we need to \n",
        "    split our list up into two halves.\n",
        "\n",
        "    Finally, Quicksort() calls itself for the left half, and the right half,\n",
        "    effectively doing the exact thing we just did but for these two sub lists. DONZO!\n",
        "\n",
        "    We don't return anything here because we are modifying the list as we go, so\n",
        "    we dont need to! \n",
        "    \n",
        "    Lets walk through this line by line.\n",
        "    '''\n",
        "\n",
        "    # This just checks if we are overlapping our cursors, in which case, we are done!\n",
        "    if left >= right:\n",
        "        return\n",
        "\n",
        "    # Here we use the random library's .choice() function to get a random element from the list\n",
        "    pivot = random.choice(A)\n",
        "\n",
        "    # We use partition() to get the partition point after moving elements around correctly\n",
        "    p = partition(A, left, right, pivot)\n",
        "\n",
        "    # Recurse on the left of p,\n",
        "    quicksort(A, left, p - 1)\n",
        "    \n",
        "    # And on the right of p!\n",
        "    quicksort(A, p, right)\n",
        "  \n"
      ],
      "execution_count": 0,
      "outputs": []
    },
    {
      "cell_type": "markdown",
      "metadata": {
        "id": "N5cT1MTadVOv",
        "colab_type": "text"
      },
      "source": [
        "Step 3: Create an Interface!\n",
        "-----------\n"
      ]
    },
    {
      "cell_type": "code",
      "metadata": {
        "id": "CUC1JxS9dd6I",
        "colab_type": "code",
        "colab": {}
      },
      "source": [
        "# qsort() takes one argument: a list! (A) Simple and clean <3\n",
        "def qsort(A):\n",
        "    '''\n",
        "    This function is so we can call our sort function without\n",
        "    having to worry about lows and highs. \n",
        "    \n",
        "    It's more intuitive to pass just the list we want to sort \n",
        "    into the function. This is an example of whats called an \"interface\" in programming.\n",
        "\n",
        "    You'll see this often when you start to use Classes and Objects, so I figured\n",
        "    I might as well expose you to it now! :D\n",
        "    '''\n",
        "    # here we just call our recursive quicksort function with a left cursor of 0 and a right cursor of len(A) - 1, the rightmost index. The whole ass list!\n",
        "    quicksort(A, 0, len(A) - 1)"
      ],
      "execution_count": 0,
      "outputs": []
    },
    {
      "cell_type": "markdown",
      "metadata": {
        "id": "4R-oirx1g_lm",
        "colab_type": "text"
      },
      "source": [
        "Step 4: Test it!\n",
        "----"
      ]
    },
    {
      "cell_type": "code",
      "metadata": {
        "id": "6thPtwNL6J2X",
        "colab_type": "code",
        "colab": {
          "base_uri": "https://localhost:8080/",
          "height": 34
        },
        "outputId": "b20c9a61-5e70-49f1-b4d8-038dcb166dc6"
      },
      "source": [
        "# Random list of integers\n",
        "lst = [7, 3, 1, 2, 0, 5, 2]\n",
        "\n",
        "# Fingers Crossed!\n",
        "qsort(lst)\n",
        "\n",
        "# *Sweats*\n",
        "print(lst)"
      ],
      "execution_count": 6,
      "outputs": [
        {
          "output_type": "stream",
          "text": [
            "[0, 1, 2, 2, 3, 5, 7]\n"
          ],
          "name": "stdout"
        }
      ]
    },
    {
      "cell_type": "markdown",
      "metadata": {
        "id": "ru_SPCnE8uX3",
        "colab_type": "text"
      },
      "source": [
        "Binary Search is also a Divide and Conquer Algorithm to find an element in a list. It requires a sorted list, but thats fine since we now have a working sort algorithm :D (QuickSort) It finds an element in a list in O(log(n)) time, or returns False otherwise.\n",
        "--------\n",
        "1. Compare x with the middle element.\n",
        "\n",
        "2. If x matches with middle element, we return the mid index.\n",
        "\n",
        "3. Else If x is greater than the mid element, then x can only lie in right half subarray after the mid element. So we recurse for right half.\n",
        "\n",
        "4. Else (x is smaller) recurse for the left half.\n",
        "\n",
        "![alt text](https://www.java2blog.com/wp-content/uploads/2015/07/BinarySearchInJava-1.jpg)\n",
        "\n"
      ]
    },
    {
      "cell_type": "markdown",
      "metadata": {
        "id": "EzbQUi2o9npX",
        "colab_type": "text"
      },
      "source": [
        "Step 1: Implement Binary Search Step by Step!\n",
        "---"
      ]
    },
    {
      "cell_type": "code",
      "metadata": {
        "id": "NzwTLCQwBjLy",
        "colab_type": "code",
        "colab": {}
      },
      "source": [
        "# binarysearch() takes in 2 arguments: a list (A), and the item we wish to find!\n",
        "def binarysearch(A, item):\n",
        "    '''\n",
        "    Binarysearch() is a fairly straightforward recursive function.\n",
        "\n",
        "    Binarysearch() first checks if the length of A is zero, in which case\n",
        "    it returns false, quitting its execution. Why? \n",
        "    \n",
        "    Once we recurse down to a sub list of length 0, that means the element\n",
        "    isn't in the list! No point in continuing recursion after that. \n",
        "\n",
        "    Binarysearch() then (if len(A) isn't 0) computes the midpoint of A.\n",
        "\n",
        "    Binarysearch() checks if the midpoint value is equal to zero, in which case\n",
        "    it returns the item (We found it!).\n",
        "\n",
        "    If the middle point isn't the item we are looking for, binarysearch() \n",
        "    checks if the item is less than or greater than the midpoint value.\n",
        "\n",
        "    If the item is less than the midpoint value, we recurse to the left side \n",
        "    of the midpoint, since the right of the list cannot contain our item.\n",
        "    (assuming our list is sorted!)\n",
        "\n",
        "    Else, our item must be greater than the midpoint value since we already checked for equality.\n",
        "    In this case, we recurse to the right side of the midpoint since the left of the list \n",
        "    cannot contain our item. (You sorted this list first, right?)\n",
        "\n",
        "    This causes a recursion of a smaller and smaller sub list until our item is found. \n",
        "    Not too crazy, I hope! :D \n",
        "\n",
        "    Let's walk through this function line by line to get a better idea of how this all works.\n",
        "    '''\n",
        "\n",
        "    # Here, we just check if the list length is zero, in which case we return false. The item isn't in the list!\n",
        "    if len(A) == 0:\n",
        "        return False\n",
        "\n",
        "    # Our length is greater than zero, so lets get recursing!\n",
        "    else:\n",
        "\n",
        "        # First, lets get that crucial midpoint index\n",
        "        midpoint = len(A)//2\n",
        "\n",
        "        # Gotta check if that middle element is actually our item. If it is, return it!\n",
        "        if A[midpoint] == item:\n",
        "            return item\n",
        "\n",
        "        # Darn, looks like we didn't get lucky... Gotta keep looking!\n",
        "        else:\n",
        "\n",
        "            # Here we check which side we will start recursing on based on if the item is less than or greater than the middle value\n",
        "            if item < A[midpoint]:\n",
        "                \n",
        "                # Recurse on the left side of the list using list slicing!\n",
        "                return binarysearch(A[:midpoint], item)\n",
        "\n",
        "            # Since we already checked for equality and less than in the above code, the only other possibility is that item is greater!\n",
        "            else:\n",
        "\n",
        "                # Recurse on the right side of the list using list slicing!\n",
        "                return binarysearch(A[midpoint+1:], item)\n"
      ],
      "execution_count": 0,
      "outputs": []
    },
    {
      "cell_type": "markdown",
      "metadata": {
        "id": "S3sMafIn_YW7",
        "colab_type": "text"
      },
      "source": [
        "Step 2: Test it!\n",
        "---"
      ]
    },
    {
      "cell_type": "code",
      "metadata": {
        "id": "mXolg0Zd_a6M",
        "colab_type": "code",
        "colab": {
          "base_uri": "https://localhost:8080/",
          "height": 68
        },
        "outputId": "92b779c8-d688-4bba-aebc-9b5fc1876c39"
      },
      "source": [
        "# Random list\n",
        "test = [7, 5, 0, 1, 4, 3, 9, 21, 4]\n",
        "\n",
        "# Lets use our new sort algo! :D\n",
        "qsort(test)\n",
        "\n",
        "# *Sweats again*\n",
        "print(test)\n",
        "\n",
        "# *Oh dear god please work*\n",
        "print(binarysearch(test, 3))\n",
        "\n",
        "# \"His palms are sweaty, knees weak, arms are heavy\"\n",
        "print(binarysearch(test, 13))"
      ],
      "execution_count": 8,
      "outputs": [
        {
          "output_type": "stream",
          "text": [
            "[0, 1, 3, 4, 4, 5, 7, 9, 21]\n",
            "3\n",
            "False\n"
          ],
          "name": "stdout"
        }
      ]
    }
  ]
}