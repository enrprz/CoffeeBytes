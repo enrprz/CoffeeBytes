{
  "nbformat": 4,
  "nbformat_minor": 0,
  "metadata": {
    "colab": {
      "name": "CoffeeBytes_05.ipynb",
      "provenance": [],
      "collapsed_sections": [],
      "include_colab_link": true
    },
    "kernelspec": {
      "name": "python3",
      "display_name": "Python 3"
    }
  },
  "cells": [
    {
      "cell_type": "markdown",
      "metadata": {
        "id": "view-in-github",
        "colab_type": "text"
      },
      "source": [
        "<a href=\"https://colab.research.google.com/github/enrprz/CoffeeBytes/blob/temp/CoffeeBytes_05.ipynb\" target=\"_parent\"><img src=\"https://colab.research.google.com/assets/colab-badge.svg\" alt=\"Open In Colab\"/></a>"
      ]
    },
    {
      "cell_type": "markdown",
      "metadata": {
        "id": "j9BfMqc6j-bH",
        "colab_type": "text"
      },
      "source": [
        "#Week 5: Classes && Objects\n",
        "\n",
        "Hello and welcome to the 5th part of the coding series. At the end of this lesson you should be able to: \n",
        "\n",
        "\n",
        "*   Learn about Classes.\n",
        "*   Learn about Objeccts\n",
        "*   Code your own Classes. \n",
        "*   Code your own Objects. \n",
        "*   Practice using Classes and Objects with previous lessons.\n",
        "*   Read more technical terms.\n",
        "\n",
        "Today you will be introduced to classes, and objects. These go hand-on-hand since, and can be quite fun to work it. Be warned that as we learn more skills, the code might get slighlty longer than usual. But fear not, as we will tackle this together 🤓👊🏻. \n",
        "Remember if you have any problems or questions do not hesitate to ask the instructor ([Enrique](https://www.instagram.com/01000101.sh/?hl=en)) or to ask the hacker community on the SHPE Discord."
      ]
    },
    {
      "cell_type": "markdown",
      "metadata": {
        "id": "Veb82CUkqWE7",
        "colab_type": "text"
      },
      "source": [
        "# Classes:\n",
        "\n",
        "Think of Classes as '**templates**' that contain variables, and functions in 1 single thing AND unlike functions, we can use different values! (talk about extreme efficiency 😅). What makes classes so different is the fact that they can be re-used for multiple purposes, as long as they are designed correctly. Lets take a look at an example:\n"
      ]
    },
    {
      "cell_type": "code",
      "metadata": {
        "id": "_qjA-G1zj9Ck",
        "colab_type": "code",
        "colab": {}
      },
      "source": [
        "# Create class called Vehicle, and assign the variables for\n",
        "# make, model, and price\n",
        "\n",
        "class vehicle:\n",
        "  make = \"\"\n",
        "  model = \"\"\n",
        "  value = 0"
      ],
      "execution_count": 0,
      "outputs": []
    },
    {
      "cell_type": "markdown",
      "metadata": {
        "id": "Ht_wOcW0s3JK",
        "colab_type": "text"
      },
      "source": [
        "Lets break down the anatomy of a Class:\n",
        "\n",
        "\n",
        "```\n",
        "class name_of_class:\n",
        "             variable1\n",
        "             varaible2\n",
        "             function1\n",
        "             function2\n",
        "             ...\n",
        "```\n",
        "\n",
        "# Objects:\n",
        "\n",
        "I know what you're thinking, so what can you do with this? As of this moment, nothing...That is because we need an '**Object**'.\n",
        "* *An **Object** is a user defined data type, which holds its own data members and member functions*.\n",
        "\n",
        "What this means is that an object will be molded from a class, but with independent values. You can create multiple objects that contain different things, and will not interfecte with the original 'template'. Lets elavorate form the previous example:"
      ]
    },
    {
      "cell_type": "code",
      "metadata": {
        "id": "r7a_LlJFwnd2",
        "colab_type": "code",
        "colab": {}
      },
      "source": [
        "# Create class called Vehicle, and create empty varaibles for\n",
        "# make, model, and price:\n",
        "\n",
        "class vehicle:\n",
        "  make  = \"\"\n",
        "  model = \"\"\n",
        "  value = 0\n",
        "  \n",
        "  # Function to display inside the class\n",
        "  def display(self):\n",
        "    print(self.make, self.model, self.value)\n",
        "  \n",
        "# Create an object car and assign values:\n",
        "\n",
        "carObject = vehicle()\n",
        "carObject.make = \"Volkswagen\" \n",
        "carObject.model = \"Jetta\"\n",
        "carObject.value = 18745\n",
        "\n",
        "# Now 'call' the display function inside your 'carObject':\n",
        "carObject.display()"
      ],
      "execution_count": 0,
      "outputs": []
    },
    {
      "cell_type": "code",
      "metadata": {
        "id": "y_Avk1Xu36lX",
        "colab_type": "code",
        "colab": {}
      },
      "source": [
        "# We can access the data inside the object by using the '.'\n",
        "\n",
        "class vehicle:\n",
        "  make  = \"\"\n",
        "  model = \"\"\n",
        "  value = 0\n",
        "  \n",
        "  # Function to display inside the class\n",
        "  def getData(self):\n",
        "    string = \"%s %s, %d.\" % (self.make, self.model, self.value)\n",
        "    return string\n",
        "\n",
        "carObject = vehicle()\n",
        "carObject.make = \"Volkswagen\"\n",
        "carObject.model = \"Jetta\"\n",
        "carObject.value = 18745\n",
        "\n",
        "# Now display the INDIVIDUAL values inside your 'carObject':\n",
        "print(carObject.make)\n",
        "print(carObject.model)\n",
        "print(carObject.value)"
      ],
      "execution_count": 0,
      "outputs": []
    },
    {
      "cell_type": "code",
      "metadata": {
        "id": "Nw9Iaipu4XnI",
        "colab_type": "code",
        "colab": {}
      },
      "source": [
        "# We can also create multiple objects with different values\n",
        "\n",
        "class vehicle:\n",
        "  make  = \"\"\n",
        "  model = \"\"\n",
        "  value = 0\n",
        "  \n",
        "  # Function to display inside the class\n",
        "  def getData(self):\n",
        "    string = \"%s %s, %d.\" % (self.make, self.model, self.value)\n",
        "    return string\n",
        "\n",
        "car = vehicle()\n",
        "car.make = \"Volkswagen\"\n",
        "car.model = \"Jetta\"\n",
        "car.value = 18745\n",
        "\n",
        "suv = vehicle()\n",
        "suv.make = \"BMW\"\n",
        "suv.model = \"X6\"\n",
        "suv.value = 64300\n",
        "\n",
        "# Now display the values inside your 'car' and 'suv' object:\n",
        "print(car.getData())\n",
        "print(suv.getData())\n"
      ],
      "execution_count": 0,
      "outputs": []
    },
    {
      "cell_type": "markdown",
      "metadata": {
        "id": "oVh10Yl9Hdj4",
        "colab_type": "text"
      },
      "source": [
        "Are you getting the hang of it? Whether that is a Yes or a No i would like to clarify a on a word that was essential to the previous programs : '**self**'.\n",
        "\n",
        "* *Self  is a reference to the object.*\n",
        "\n",
        "Take the following as an example:\n",
        "\n",
        "```\n",
        "class Animal:\n",
        "    def setName(self, name):\n",
        "         self.name = name\n",
        "         \n",
        "```\n",
        "We cannot go back every single time to change the value/function/name/method given to the program, that would be inneficient to say the least. Because these methods are often re-used with different things. Thats why we have to find a way to tell the program that it needs to assign those values to itself. It is quite literally 'self explanatory' 🧐. Lets follow this with another animal example:\n",
        "\n"
      ]
    },
    {
      "cell_type": "code",
      "metadata": {
        "id": "mksWpnG7MhDt",
        "colab_type": "code",
        "colab": {}
      },
      "source": [
        "# Create a class Animal\n",
        "class Animal:\n",
        "  def Name(self, name):\n",
        "    self.name = name\n",
        "    return name\n",
        "  \n",
        "# Create 2 objects of animals and assign them a name\n",
        "cat = Animal()\n",
        "cat.name = \"Samantha\"\n",
        "\n",
        "dog = Animal()\n",
        "dog.name = \"John\"\n",
        "\n",
        "# Now lets display the names of those animals!\n",
        "print(cat.name)\n",
        "print(dog.name)"
      ],
      "execution_count": 0,
      "outputs": []
    },
    {
      "cell_type": "markdown",
      "metadata": {
        "id": "BqNc_0LdRQmp",
        "colab_type": "text"
      },
      "source": [
        "Practice makes perfection, so lets sharpen our skills with a couple programs that resemble what is used in the real world:"
      ]
    },
    {
      "cell_type": "code",
      "metadata": {
        "id": "_tHN23lFRguA",
        "colab_type": "code",
        "colab": {}
      },
      "source": [
        "# You are making a program for the library. Clerks get new books\n",
        "# and add them to the system (including title, edition, and year published).\n",
        "# Create a program that adds 5 books with their respective info:\n",
        "\n",
        "# Create a book class\n",
        "class book:\n",
        "  title = \"\"\n",
        "  edition = \"\"\n",
        "  year = 0\n",
        "  def display(self):\n",
        "    book_info = \"%s, %s edition, Published: %d\" % (self.title, self.edition, self.year)\n",
        "    return book_info\n",
        "  \n",
        "  \n",
        "# Create an array of 5 books:\n",
        "books = [book() for i in range(5)]\n",
        "\n",
        "# Use a loop to iterate thru the 5 objects:\n",
        "for book in books:\n",
        "    \n",
        "  # Ask the user for input\n",
        "    book.title   =    (input(\"Enter book title: \"))\n",
        "    book.edition =    (input(\"Enter book edition: \"))\n",
        "    book.year    = int(input(\"Enter year published: \"))\n",
        "  \n",
        "# Use another loop to display the info of each book.\n",
        "for book in books:\n",
        "  print(book.display())"
      ],
      "execution_count": 0,
      "outputs": []
    },
    {
      "cell_type": "markdown",
      "metadata": {
        "id": "amtTAX6NwqsX",
        "colab_type": "text"
      },
      "source": [
        "As far as i'm concerned, that was the hardest program that we have done so far. The next coding space will serve as a **mini quiz** to practice during class. Before start coding read the instructions, and ask yourself what is the best way to break down what they are asking me to do. Also, it would be better to code/program futureproof. \n",
        "\n",
        "# Mini Quiz 03:"
      ]
    },
    {
      "cell_type": "code",
      "metadata": {
        "id": "JdZVg1rbydOs",
        "colab_type": "code",
        "colab": {}
      },
      "source": [
        "# Create a program that outputs to the screen 3 DnD characters\n",
        "# The characters should have the following qualities:\n",
        "# Strenght, Dexterity, Constitution, Intelligence, Wisdom, and Charisma. All integers.\n",
        "# Make sure that the user can choose and assign the values for each ability. \n",
        "\n",
        "\n",
        "\n",
        "\n",
        "\n",
        "\n",
        "\n",
        "\n",
        "\n",
        "\n",
        "\n",
        "\n"
      ],
      "execution_count": 0,
      "outputs": []
    },
    {
      "cell_type": "markdown",
      "metadata": {
        "id": "WMR8Cx2_8e_0",
        "colab_type": "text"
      },
      "source": [
        "Stay tuned for the following lesson where we finally start using Dictionaries, Modules, and Packages 🤓. Remember the Discord section for CoffeeBytes is always open to questions.\n",
        "\n",
        "# See you next time!"
      ]
    }
  ]
}